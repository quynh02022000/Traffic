{
  "nbformat": 4,
  "nbformat_minor": 0,
  "metadata": {
    "colab": {
      "name": "segment.ipynb",
      "provenance": [],
      "authorship_tag": "ABX9TyMStj77EnGOmrXld+E3ZnjE",
      "include_colab_link": true
    },
    "kernelspec": {
      "name": "python3",
      "display_name": "Python 3"
    },
    "language_info": {
      "name": "python"
    }
  },
  "cells": [
    {
      "cell_type": "markdown",
      "metadata": {
        "id": "view-in-github",
        "colab_type": "text"
      },
      "source": [
        "<a href=\"https://colab.research.google.com/github/quynh02022000/Traffic/blob/main/code/segment.ipynb\" target=\"_parent\"><img src=\"https://colab.research.google.com/assets/colab-badge.svg\" alt=\"Open In Colab\"/></a>"
      ]
    },
    {
      "cell_type": "code",
      "metadata": {
        "id": "zymwER0BSGl5"
      },
      "source": [
        "import pandas as pd"
      ],
      "execution_count": 1,
      "outputs": []
    },
    {
      "cell_type": "code",
      "metadata": {
        "id": "nFRY6hk5SMTp"
      },
      "source": [
        ""
      ],
      "execution_count": null,
      "outputs": []
    },
    {
      "cell_type": "code",
      "metadata": {
        "colab": {
          "base_uri": "https://localhost:8080/",
          "height": 483
        },
        "id": "CCWKGmF0P6xq",
        "outputId": "072d79c9-7ce6-4012-991b-ccf598989bc1"
      },
      "source": [
        "df_segment = pd.read_csv(\"https://raw.githubusercontent.com/quynh02022000/Traffic/main/data/segment_status.csv\")\n",
        "df_segment.head(14)"
      ],
      "execution_count": null,
      "outputs": [
        {
          "output_type": "execute_result",
          "data": {
            "text/html": [
              "<div>\n",
              "<style scoped>\n",
              "    .dataframe tbody tr th:only-of-type {\n",
              "        vertical-align: middle;\n",
              "    }\n",
              "\n",
              "    .dataframe tbody tr th {\n",
              "        vertical-align: top;\n",
              "    }\n",
              "\n",
              "    .dataframe thead th {\n",
              "        text-align: right;\n",
              "    }\n",
              "</style>\n",
              "<table border=\"1\" class=\"dataframe\">\n",
              "  <thead>\n",
              "    <tr style=\"text-align: right;\">\n",
              "      <th></th>\n",
              "      <th>_id</th>\n",
              "      <th>long</th>\n",
              "      <th>lat</th>\n",
              "    </tr>\n",
              "  </thead>\n",
              "  <tbody>\n",
              "    <tr>\n",
              "      <th>0</th>\n",
              "      <td>366367223</td>\n",
              "      <td>106.629056</td>\n",
              "      <td>10.804243</td>\n",
              "    </tr>\n",
              "    <tr>\n",
              "      <th>1</th>\n",
              "      <td>366367233</td>\n",
              "      <td>106.709701</td>\n",
              "      <td>10.771110</td>\n",
              "    </tr>\n",
              "    <tr>\n",
              "      <th>2</th>\n",
              "      <td>366367242</td>\n",
              "      <td>106.737189</td>\n",
              "      <td>10.709337</td>\n",
              "    </tr>\n",
              "    <tr>\n",
              "      <th>3</th>\n",
              "      <td>366367274</td>\n",
              "      <td>106.760081</td>\n",
              "      <td>10.854489</td>\n",
              "    </tr>\n",
              "    <tr>\n",
              "      <th>4</th>\n",
              "      <td>366367285</td>\n",
              "      <td>106.721163</td>\n",
              "      <td>10.804994</td>\n",
              "    </tr>\n",
              "    <tr>\n",
              "      <th>5</th>\n",
              "      <td>366367319</td>\n",
              "      <td>106.618552</td>\n",
              "      <td>10.790438</td>\n",
              "    </tr>\n",
              "    <tr>\n",
              "      <th>6</th>\n",
              "      <td>366367322</td>\n",
              "      <td>106.657136</td>\n",
              "      <td>10.799155</td>\n",
              "    </tr>\n",
              "    <tr>\n",
              "      <th>7</th>\n",
              "      <td>366367330</td>\n",
              "      <td>106.564926</td>\n",
              "      <td>10.846947</td>\n",
              "    </tr>\n",
              "    <tr>\n",
              "      <th>8</th>\n",
              "      <td>366367338</td>\n",
              "      <td>106.632575</td>\n",
              "      <td>10.723753</td>\n",
              "    </tr>\n",
              "    <tr>\n",
              "      <th>9</th>\n",
              "      <td>366367340</td>\n",
              "      <td>106.714288</td>\n",
              "      <td>10.803099</td>\n",
              "    </tr>\n",
              "    <tr>\n",
              "      <th>10</th>\n",
              "      <td>366367342</td>\n",
              "      <td>106.706294</td>\n",
              "      <td>10.764703</td>\n",
              "    </tr>\n",
              "    <tr>\n",
              "      <th>11</th>\n",
              "      <td>366367364</td>\n",
              "      <td>106.552339</td>\n",
              "      <td>10.786808</td>\n",
              "    </tr>\n",
              "    <tr>\n",
              "      <th>12</th>\n",
              "      <td>366367367</td>\n",
              "      <td>106.732437</td>\n",
              "      <td>10.813809</td>\n",
              "    </tr>\n",
              "    <tr>\n",
              "      <th>13</th>\n",
              "      <td>366367369</td>\n",
              "      <td>106.637838</td>\n",
              "      <td>10.859728</td>\n",
              "    </tr>\n",
              "  </tbody>\n",
              "</table>\n",
              "</div>"
            ],
            "text/plain": [
              "          _id        long        lat\n",
              "0   366367223  106.629056  10.804243\n",
              "1   366367233  106.709701  10.771110\n",
              "2   366367242  106.737189  10.709337\n",
              "3   366367274  106.760081  10.854489\n",
              "4   366367285  106.721163  10.804994\n",
              "5   366367319  106.618552  10.790438\n",
              "6   366367322  106.657136  10.799155\n",
              "7   366367330  106.564926  10.846947\n",
              "8   366367338  106.632575  10.723753\n",
              "9   366367340  106.714288  10.803099\n",
              "10  366367342  106.706294  10.764703\n",
              "11  366367364  106.552339  10.786808\n",
              "12  366367367  106.732437  10.813809\n",
              "13  366367369  106.637838  10.859728"
            ]
          },
          "metadata": {},
          "execution_count": 11
        }
      ]
    }
  ]
}